{
 "cells": [
  {
   "cell_type": "markdown",
   "id": "4973898a",
   "metadata": {
    "pycharm": {
     "name": "#%% md\n"
    }
   },
   "source": [
    "# Example: Polynomial function\n",
    "\n",
    "\n",
    "The following is an example of history matching with the\n",
    "iterative_ensemble_smoother library."
   ]
  },
  {
   "cell_type": "code",
   "execution_count": null,
   "id": "6a345431",
   "metadata": {
    "pycharm": {
     "name": "#%%\n"
    }
   },
   "outputs": [],
   "source": [
    "# Simple plotting of forward-model with a single response and parameters\n",
    "from matplotlib import pyplot as plt\n",
    "\n",
    "\n",
    "def plot_result(\n",
    "    A, response_x_axis, trans_func=lambda x: x, priors=None, show_params=False\n",
    "):\n",
    "    if priors is None:\n",
    "        priors = []\n",
    "    responses = forward_model(A, priors, response_x_axis)\n",
    "    plt.rcParams[\"figure.figsize\"] = [15, 4]\n",
    "    figures = 1 + len(A) if show_params else 1\n",
    "    fig, axs = plt.subplots(1, figures)\n",
    "\n",
    "    if show_params:\n",
    "        axs[0].plot(response_x_axis, responses)\n",
    "        for i, param in enumerate(A):\n",
    "            A_trans = np.array([trans_func(v, *priors[i]) for v in param])\n",
    "            axs[i + 1].hist(A_trans, bins=10)\n",
    "    else:\n",
    "        axs.plot(response_x_axis, responses)\n",
    "    plt.show()"
   ]
  },
  {
   "cell_type": "markdown",
   "id": "77a4ae67",
   "metadata": {},
   "source": [
    "## Setup\n",
    "\n",
    "The setup contains a forward model (a second degree polynomial in this case),\n",
    "where the coefficents of the polynomial is the model parameters.\n",
    "\n",
    "There are 5 time steps t=0,1,2,3,4 and 3 observations at t=0,2,4.\n",
    "\n",
    "Before history matching, these observations are predicted by the forward\n",
    "model with the priors.\n",
    "\n",
    "The priors at t=0,2,4 are assumed uniform in [0,1], [0,2] and [0,5]\n",
    "respectively.\n",
    "\n",
    "As input to the history matching we have the observed values in\n",
    "`observation_values`. These would normally be historic measurements.\n",
    "\n",
    "The observed values have the measurement errors in `observation_errors`.\n",
    "\n",
    "A is populated with initial guesses for the parameters of the ensemble."
   ]
  },
  {
   "cell_type": "code",
   "execution_count": null,
   "id": "043ebc01",
   "metadata": {
    "pycharm": {
     "name": "#%%\n"
    }
   },
   "outputs": [],
   "source": [
    "# Polynomial forward model with observations\n",
    "import numpy as np\n",
    "from scipy.special import erf\n",
    "from math import sqrt\n",
    "\n",
    "\n",
    "def uniform(x, min_x, max_x):\n",
    "    y = 0.5 * (1 + erf(x / sqrt(2.0)))\n",
    "    return y * (max_x - min_x) + min_x\n",
    "\n",
    "\n",
    "def forward_model(A, priors, response_x_axis):\n",
    "    responses = []\n",
    "    for params in A.T:\n",
    "        l = [uniform(x, *priors[i]) for i, x in enumerate(params)]\n",
    "        response = [l[0] * x**2 + l[1] * x + l[2] for x in response_x_axis]\n",
    "        responses.append(response)\n",
    "    return np.array(responses).T\n",
    "\n",
    "\n",
    "observation_values = np.array(\n",
    "    [2.8532509308, 7.20311703432, 21.3864899107, 31.5145559347, 53.5676660405]\n",
    ")\n",
    "\n",
    "observation_errors = np.array([0.5 * (x + 1) for x, _ in enumerate(observation_values)])\n",
    "observation_x_axis = [0, 2, 4, 6, 8]\n",
    "response_x_axis = range(10)\n",
    "realizations = 200\n",
    "priors = [(0, 1), (0, 2), (0, 5)]\n",
    "A = np.asfortranarray(np.random.normal(0, 1, size=(3, realizations)))\n",
    "plot_result(A, response_x_axis, uniform, priors, True)"
   ]
  },
  {
   "cell_type": "markdown",
   "id": "51c0c781",
   "metadata": {},
   "source": [
    "## Update step"
   ]
  },
  {
   "cell_type": "code",
   "execution_count": null,
   "id": "156f541f",
   "metadata": {
    "pycharm": {
     "name": "#%%\n"
    }
   },
   "outputs": [],
   "source": [
    "import numpy as np\n",
    "import iterative_ensemble_smoother as ies\n",
    "\n",
    "# Plot the initial guesses before the update step\n",
    "plot_result(A, response_x_axis, uniform, priors, True)\n",
    "\n",
    "# Calculate responses from the forward model\n",
    "responses_before = forward_model(A, priors, response_x_axis)\n",
    "S = responses_before[observation_x_axis]\n",
    "\n",
    "# Update step\n",
    "new_A = ies.ensemble_smoother_update_step(\n",
    "    S, A, observation_errors, observation_values\n",
    ")\n",
    "\n",
    "# Plot after update step\n",
    "plot_result(new_A, response_x_axis, uniform, priors, True)"
   ]
  },
  {
   "cell_type": "markdown",
   "id": "de6ae1eb",
   "metadata": {},
   "source": [
    "## Iterative smoother"
   ]
  },
  {
   "cell_type": "code",
   "execution_count": null,
   "id": "90ec44d1",
   "metadata": {},
   "outputs": [],
   "source": [
    "import numpy as np\n",
    "from matplotlib import pyplot as plt\n",
    "import iterative_ensemble_smoother as ies\n",
    "\n",
    "\n",
    "def iterative_smoother():\n",
    "    A_current = np.copy(A)\n",
    "    iterations = 4\n",
    "    smoother = ies.IterativeEnsembleSmoother(realizations)\n",
    "\n",
    "    for i in range(iterations):\n",
    "        plot_result(A_current, response_x_axis, uniform, priors, True)\n",
    "        responses_before = forward_model(A_current, priors, response_x_axis)\n",
    "        S = responses_before[observation_x_axis]\n",
    "        A_current = smoother.update_step(\n",
    "            S,\n",
    "            A,\n",
    "            observation_errors,\n",
    "            observation_values\n",
    "        )\n",
    "    plot_result(A_current, response_x_axis, uniform, priors, True)\n",
    "\n",
    "\n",
    "iterative_smoother()"
   ]
  },
  {
   "cell_type": "code",
   "execution_count": null,
   "id": "12e8e5d1",
   "metadata": {
    "pycharm": {
     "name": "#%%\n"
    }
   },
   "outputs": [],
   "source": []
  }
 ],
 "metadata": {
  "jupytext": {
   "formats": "ipynb,py:percent"
  },
  "kernelspec": {
   "display_name": "Python 3 (ipykernel)",
   "language": "python",
   "name": "python3"
  },
  "language_info": {
   "codemirror_mode": {
    "name": "ipython",
    "version": 3
   },
   "file_extension": ".py",
   "mimetype": "text/x-python",
   "name": "python",
   "nbconvert_exporter": "python",
   "pygments_lexer": "ipython3",
   "version": "3.8.9"
  }
 },
 "nbformat": 4,
 "nbformat_minor": 5
}
